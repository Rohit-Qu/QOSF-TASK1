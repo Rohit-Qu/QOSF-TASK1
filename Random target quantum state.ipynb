{
 "cells": [
  {
   "cell_type": "markdown",
   "metadata": {},
   "source": [
    "# CODE FOR PRODUCING RANDOM TARGET QUANTUM STATE"
   ]
  },
  {
   "cell_type": "markdown",
   "metadata": {},
   "source": [
    "The state produced has been used for all the circuits as target state."
   ]
  },
  {
   "cell_type": "code",
   "execution_count": 12,
   "metadata": {},
   "outputs": [],
   "source": [
    "import numpy as np\n",
    "target_state = np.random.rand(16)+np.random.rand(16)*1j"
   ]
  },
  {
   "cell_type": "code",
   "execution_count": 13,
   "metadata": {},
   "outputs": [],
   "source": [
    "#Normalizing the vector produced\n",
    "target_state = target_state/(np.sum(np.abs(target_state)**2)) ## Normalizing vector\n"
   ]
  },
  {
   "cell_type": "code",
   "execution_count": 11,
   "metadata": {},
   "outputs": [
    {
     "data": {
      "text/latex": [
       "$\\displaystyle \n",
       "\\text{Statevector} = \\begin{bmatrix}\n",
       "0.0281 + 0.05484i \\\\\n",
       "0.14565 + 0.00284i \\\\\n",
       "0.34965 + 0.20972i \\\\\n",
       "0.31945 + 0.24742i \\\\\n",
       "0.0566 + 0.11895i \\\\\n",
       "0.25226 + 0.07934i \\\\\n",
       "0.27093 + 0.06399i \\\\\n",
       "0.18766 + 0.23413i \\\\\n",
       "0.21168 + 0.06627i \\\\\n",
       "0.21332 + 0.05929i \\\\\n",
       "0.03998 + 0.03564i \\\\\n",
       "0.24242 + 0.26836i \\\\\n",
       "0.03695 + 0.05138i \\\\\n",
       "0.31179 + 0.17997i \\\\\n",
       "0.0397 + 0.00531i \\\\\n",
       "0.13355 + 0.07579i\n",
       "\\end{bmatrix}\n",
       "$"
      ],
      "text/plain": [
       "<IPython.core.display.Math object>"
      ]
     },
     "metadata": {},
     "output_type": "display_data"
    }
   ],
   "source": [
    "from qiskit_textbook.tools import array_to_latex\n",
    "array_to_latex(target_state, pretext=\"\\\\text{Statevector} = \")"
   ]
  },
  {
   "cell_type": "code",
   "execution_count": null,
   "metadata": {},
   "outputs": [],
   "source": []
  }
 ],
 "metadata": {
  "kernelspec": {
   "display_name": "Python 3",
   "language": "python",
   "name": "python3"
  },
  "language_info": {
   "codemirror_mode": {
    "name": "ipython",
    "version": 3
   },
   "file_extension": ".py",
   "mimetype": "text/x-python",
   "name": "python",
   "nbconvert_exporter": "python",
   "pygments_lexer": "ipython3",
   "version": "3.7.4"
  }
 },
 "nbformat": 4,
 "nbformat_minor": 2
}
