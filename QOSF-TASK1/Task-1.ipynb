{
  "nbformat": 4,
  "nbformat_minor": 0,
  "metadata": {
    "colab": {
      "name": "Untitled3.ipynb",
      "provenance": [],
      "collapsed_sections": []
    },
    "kernelspec": {
      "name": "python3",
      "display_name": "Python 3"
    }
  },
  "cells": [
    {
      "cell_type": "code",
      "metadata": {
        "id": "yZCKxNLpWWtx",
        "colab_type": "code",
        "colab": {}
      },
      "source": [
        "import pennylane as qml\n",
        "from pennylane import numpy as np\n",
        "dev1 = qml.device('default.qubit', wires=[0,1,2,3])\n",
        "@qml.qnode(dev1)\n",
        "\n",
        "#Defining the circuit function as given in the task\n",
        "\n",
        "def my_quantum_function(theta):\n",
        "  num_qubits = 4                   #### circuit has 4 qubit\n",
        "  L = 9                                 #### no. of layers\n",
        "  for _ in range(L):\n",
        "    for i in range(num_qubits):\n",
        "      qml.RX(theta[i+_*8], wires = i)\n",
        "    for i in range(num_qubits):\n",
        "      qml.RZ(theta[i+_*8+4], wires = i)\n",
        "    for i in range(num_qubits):\n",
        "      for j in range(i+1, num_qubits):\n",
        "        qml.CZ(wires = [i,j])\n",
        "  return qml.probs(wires=[0,1,2,3])"
      ],
      "execution_count": 246,
      "outputs": []
    },
    {
      "cell_type": "code",
      "metadata": {
        "id": "jfD6oWLZdmPi",
        "colab_type": "code",
        "colab": {}
      },
      "source": [
        "#defining the cost function as per the task\n",
        "\n",
        "def cost(theta):\n",
        "\n",
        "  # target_state is the required state\n",
        "\n",
        "  target_state=[0.0280999 +0.05484259j, 0.14565419+0.00284204j, 0.34964817+0.20972156j,\n",
        "                0.31944654+0.2474195j,  0.05660092+0.1189459j,  0.25226461+0.07934141j,\n",
        "                0.27092873+0.06398543j, 0.18766363+0.23413237j, 0.21167778+0.06627202j,\n",
        "                0.21332106+0.05929251j, 0.03998133+0.03564132j, 0.24241976+0.26835974j,\n",
        "                0.03695061+0.0513821j,  0.31178641+0.17997049j, 0.03969748+0.0053141j,\n",
        "                0.13355231+0.07578649j] \n",
        " \n",
        "  return np.sum(np.abs((my_quantum_function(theta)-np.abs(target_state)**2)))"
      ],
      "execution_count": 247,
      "outputs": []
    },
    {
      "cell_type": "code",
      "metadata": {
        "id": "ISC6owjeyyxB",
        "colab_type": "code",
        "colab": {}
      },
      "source": [
        "L = 9 ## no of layers \n",
        "\n",
        "## randomly define the initial paramenters (theta) \n",
        "\n",
        "def initialize_theta(L):\n",
        "    theta = 2*np.pi*np.random.rand(8*L)\n",
        "    return theta\n",
        "\n",
        "theta = np.array(initialize_theta(L))"
      ],
      "execution_count": 248,
      "outputs": []
    },
    {
      "cell_type": "code",
      "metadata": {
        "id": "wO8P8eL8zUkI",
        "colab_type": "code",
        "colab": {}
      },
      "source": [
        "dcost = qml.jacobian(my_quantum_function,argnum=0)"
      ],
      "execution_count": 249,
      "outputs": []
    },
    {
      "cell_type": "code",
      "metadata": {
        "id": "9T4nuw0r0Y_y",
        "colab_type": "code",
        "colab": {}
      },
      "source": [
        "#Training model\n",
        "\n",
        "opt = qml.GradientDescentOptimizer(stepsize=0.04)\n",
        "\n",
        "# set the number of steps\n",
        "steps = 500\n",
        "# set the initial parameter values\n",
        "params = theta\n",
        "c = []\n",
        "p = []\n",
        "i_m = []\n",
        "for i in range(steps):\n",
        "    # update the circuit parameters\n",
        "    params = opt.step(cost, params)\n",
        "    print(\"Cost after step {:5d}: {: .7f}\".format(i, cost(params)))\n",
        "    c.append(cost(params))\n",
        "    p.append(params)\n",
        "    i_m.append(i)\n",
        "    \n",
        "\n",
        "\n",
        "print(\"Optimized rotation angles: {}\".format(params))\n"
      ],
      "execution_count": null,
      "outputs": []
    },
    {
      "cell_type": "code",
      "metadata": {
        "id": "q9FIUYyMCvCT",
        "colab_type": "code",
        "colab": {}
      },
      "source": [
        "#Plotting cost vs iteration \n",
        "\n",
        "\n",
        "from matplotlib import pyplot as plt\n",
        "\n",
        "plt.style.use(\"seaborn\")\n",
        "plt.plot(i_m,c ,\"b\", label=\"gradient descent\")\n",
        "plt.ylabel(\"Cost function value\")\n",
        "plt.xlabel(\"Optimization steps\")\n",
        "plt.title('9 Layer Circuit')\n",
        "plt.legend()\n",
        "plt.show()"
      ],
      "execution_count": null,
      "outputs": []
    },
    {
      "cell_type": "code",
      "metadata": {
        "id": "2tfs7swLxULN",
        "colab_type": "code",
        "colab": {}
      },
      "source": [
        ""
      ],
      "execution_count": null,
      "outputs": []
    }
  ]
}