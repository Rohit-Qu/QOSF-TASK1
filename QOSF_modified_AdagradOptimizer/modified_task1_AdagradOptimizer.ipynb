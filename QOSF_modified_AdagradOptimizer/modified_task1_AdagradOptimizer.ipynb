{
  "nbformat": 4,
  "nbformat_minor": 0,
  "metadata": {
    "colab": {
      "name": "Untitled4.ipynb",
      "provenance": []
    },
    "kernelspec": {
      "name": "python3",
      "display_name": "Python 3"
    }
  },
  "cells": [
    {
      "cell_type": "code",
      "metadata": {
        "id": "wPQzE9FHfDwo"
      },
      "source": [
        "import pennylane as qml\n",
        "from pennylane import numpy as np\n",
        "dev1 = qml.device('default.qubit', wires=[0,1,2,3])\n",
        "@qml.qnode(dev1)\n",
        "\n",
        "#Defining The Quantum Circuit\n",
        "\n",
        "def my_quantum_function(theta):\n",
        "  num_qubits = 4                   #### circuit has 4 qubit\n",
        "  L = 1                            #### no. of layers\n",
        "  for _ in range(L):\n",
        "    for i in range(num_qubits):\n",
        "      qml.RY(theta[i+_*8], wires = i)\n",
        "    for i in range(num_qubits):\n",
        "      qml.RX(theta[i+_*8+4], wires = i)\n",
        "    for i in range(num_qubits):\n",
        "      for j in range(i+1, num_qubits):\n",
        "        qml.CZ(wires = [i,j])\n",
        "  return qml.probs(wires=[0,1,2,3])\n"
      ],
      "execution_count": 1,
      "outputs": []
    },
    {
      "cell_type": "code",
      "metadata": {
        "id": "J78Qs6I6fGz1"
      },
      "source": [
        "#Defining the cost function as given in the task\n",
        "\n",
        "def cost(theta):\n",
        "\n",
        "  # target_state is the required state\n",
        "\n",
        "  target_state=[0.0280999 +0.05484259j, 0.14565419+0.00284204j, 0.34964817+0.20972156j,\n",
        "                0.31944654+0.2474195j,  0.05660092+0.1189459j,  0.25226461+0.07934141j,\n",
        "                0.27092873+0.06398543j, 0.18766363+0.23413237j, 0.21167778+0.06627202j,\n",
        "                0.21332106+0.05929251j, 0.03998133+0.03564132j, 0.24241976+0.26835974j,\n",
        "                0.03695061+0.0513821j,  0.31178641+0.17997049j, 0.03969748+0.0053141j,\n",
        "                0.13355231+0.07578649j] \n",
        " \n",
        "  return np.sum(np.abs((my_quantum_function(theta)-np.abs(target_state)**2)))"
      ],
      "execution_count": 2,
      "outputs": []
    },
    {
      "cell_type": "code",
      "metadata": {
        "id": "OGYQ5gE7fJhP"
      },
      "source": [
        "L = 1 ## no of layers \n",
        "\n",
        "## randomly define the initial paramenters (theta) \n",
        "\n",
        "def initialize_theta(L):\n",
        "    theta = 2*np.pi*np.random.rand(8*L)\n",
        "    return theta\n",
        "\n",
        "theta = np.array(initialize_theta(L))"
      ],
      "execution_count": 3,
      "outputs": []
    },
    {
      "cell_type": "code",
      "metadata": {
        "id": "1btVE1yXfMy4"
      },
      "source": [
        "dcost = qml.jacobian(my_quantum_function,argnum=0)"
      ],
      "execution_count": 4,
      "outputs": []
    },
    {
      "cell_type": "code",
      "metadata": {
        "id": "80s0aRdK0ith"
      },
      "source": [
        "\n",
        "opt = qml.AdagradOptimizer(stepsize=0.01, eps=1e-08)\n",
        "# set the number of steps\n",
        "steps = 500\n",
        "# set the initial parameter values\n",
        "params = theta\n",
        "c1 = []\n",
        "p1 = []\n",
        "i_m1 = []\n",
        "for i in range(steps):\n",
        "    # update the circuit parameters\n",
        "    params = opt.step(cost, params)\n",
        "    print(\"Cost after step {:5d}: {: .7f}\".format(i, cost(params)))\n",
        "    c1.append(cost(params))\n",
        "    p1.append(params)\n",
        "    i_m1.append(i)\n",
        "    \n",
        "\n",
        "\n",
        "print(\"Optimized rotation angles: {}\".format(params))\n"
      ],
      "execution_count": null,
      "outputs": []
    },
    {
      "cell_type": "code",
      "metadata": {
        "id": "8Z6oxyLvEpLC"
      },
      "source": [
        " #Ploting the cost vs iteration\n",
        "\n",
        "from matplotlib import pyplot as plt\n",
        "\n",
        "plt.style.use(\"seaborn\")\n",
        "plt.plot(i_m1,c1 ,\"b\", label=\"AdagradOptimizer\")\n",
        "plt.ylabel(\"Cost function value\")\n",
        "plt.xlabel(\"Optimization steps\")\n",
        "plt.title('1 Layer Circuit')\n",
        "plt.legend()\n",
        "plt.show()"
      ],
      "execution_count": null,
      "outputs": []
    },
    {
      "cell_type": "code",
      "metadata": {
        "id": "uGMN5J6lZMcP"
      },
      "source": [
        ""
      ],
      "execution_count": null,
      "outputs": []
    }
  ]
}